{
 "metadata": {
  "language_info": {
   "codemirror_mode": {
    "name": "ipython",
    "version": 3
   },
   "file_extension": ".py",
   "mimetype": "text/x-python",
   "name": "python",
   "nbconvert_exporter": "python",
   "pygments_lexer": "ipython3",
   "version": "3.7.4-final"
  },
  "orig_nbformat": 2,
  "kernelspec": {
   "name": "python3",
   "display_name": "Python 3.7.4 64-bit",
   "metadata": {
    "interpreter": {
     "hash": "31f2aee4e71d21fbe5cf8b01ff0e069b9275f58929596ceb00d14d90e3e16cd6"
    }
   }
  }
 },
 "nbformat": 4,
 "nbformat_minor": 2,
 "cells": [
  {
   "cell_type": "code",
   "execution_count": 1,
   "metadata": {},
   "outputs": [],
   "source": [
    "with open('ca_ancora-ud-dev.conllu') as cat:\n",
    "    catala = [line.split('\\t') for line in cat if len(line.split('\\t')) == 10]\n",
    "\n",
    "with open('en_esl-ud-dev.conllu') as eng:\n",
    "    english = [line.split('\\t') for line in eng if len(line.split('\\t')) == 10]\n"
   ]
  },
  {
   "cell_type": "code",
   "execution_count": 2,
   "metadata": {},
   "outputs": [],
   "source": [
    "import pandas as pd\n",
    "from collections import Counter\n",
    "\n",
    "big_cat = []\n",
    "for line_c in catala:\n",
    "    big_cat.append(line_c[3])\n",
    "\n",
    "big_eng = []\n",
    "for line_e in english:\n",
    "    big_eng.append(line_e[3])\n",
    "\n",
    "cat_count = Counter(big_cat).most_common(20)\n",
    "eng_count = Counter(big_eng).most_common(20)\n",
    "\n",
    "cat_tags = [tag for tag, count in cat_count]\n",
    "cat_nums = [count for tag, count in cat_count]\n",
    "eng_tags = [tag for tag, count in eng_count]\n",
    "eng_nums = [count for tag, count in eng_count]\n",
    "\n",
    "df = pd.DataFrame({'CAT top tags': cat_tags, 'CAT values': cat_nums, 'ENG top tags': eng_tags, 'ENG values': eng_nums})\n",
    "\n"
   ]
  },
  {
   "cell_type": "code",
   "execution_count": 3,
   "metadata": {},
   "outputs": [
    {
     "output_type": "execute_result",
     "data": {
      "text/plain": [
       "   CAT top tags  CAT values ENG top tags  ENG values\n",
       "0          NOUN       10464         NOUN        1511\n",
       "1           ADP        9329         VERB        1240\n",
       "2           DET        7837         PRON        1086\n",
       "3         PUNCT        5528          DET         949\n",
       "4         PROPN        4795        PUNCT         912\n",
       "5          VERB        4512          ADP         827\n",
       "6           ADJ        3217          AUX         688\n",
       "7          PRON        2470          ADV         592\n",
       "8           AUX        2416          ADJ         573\n",
       "9           ADV        1733         PART         344\n",
       "10        CCONJ        1646        CCONJ         316\n",
       "11        SCONJ        1185        SCONJ         248\n",
       "12          NUM         834        PROPN         163\n",
       "13          SYM         502          NUM          84\n",
       "14            _         157         INTJ           6\n",
       "15         PART          13          SYM           5\n",
       "16         INTJ           1            X           5"
      ],
      "text/html": "<div>\n<style scoped>\n    .dataframe tbody tr th:only-of-type {\n        vertical-align: middle;\n    }\n\n    .dataframe tbody tr th {\n        vertical-align: top;\n    }\n\n    .dataframe thead th {\n        text-align: right;\n    }\n</style>\n<table border=\"1\" class=\"dataframe\">\n  <thead>\n    <tr style=\"text-align: right;\">\n      <th></th>\n      <th>CAT top tags</th>\n      <th>CAT values</th>\n      <th>ENG top tags</th>\n      <th>ENG values</th>\n    </tr>\n  </thead>\n  <tbody>\n    <tr>\n      <th>0</th>\n      <td>NOUN</td>\n      <td>10464</td>\n      <td>NOUN</td>\n      <td>1511</td>\n    </tr>\n    <tr>\n      <th>1</th>\n      <td>ADP</td>\n      <td>9329</td>\n      <td>VERB</td>\n      <td>1240</td>\n    </tr>\n    <tr>\n      <th>2</th>\n      <td>DET</td>\n      <td>7837</td>\n      <td>PRON</td>\n      <td>1086</td>\n    </tr>\n    <tr>\n      <th>3</th>\n      <td>PUNCT</td>\n      <td>5528</td>\n      <td>DET</td>\n      <td>949</td>\n    </tr>\n    <tr>\n      <th>4</th>\n      <td>PROPN</td>\n      <td>4795</td>\n      <td>PUNCT</td>\n      <td>912</td>\n    </tr>\n    <tr>\n      <th>5</th>\n      <td>VERB</td>\n      <td>4512</td>\n      <td>ADP</td>\n      <td>827</td>\n    </tr>\n    <tr>\n      <th>6</th>\n      <td>ADJ</td>\n      <td>3217</td>\n      <td>AUX</td>\n      <td>688</td>\n    </tr>\n    <tr>\n      <th>7</th>\n      <td>PRON</td>\n      <td>2470</td>\n      <td>ADV</td>\n      <td>592</td>\n    </tr>\n    <tr>\n      <th>8</th>\n      <td>AUX</td>\n      <td>2416</td>\n      <td>ADJ</td>\n      <td>573</td>\n    </tr>\n    <tr>\n      <th>9</th>\n      <td>ADV</td>\n      <td>1733</td>\n      <td>PART</td>\n      <td>344</td>\n    </tr>\n    <tr>\n      <th>10</th>\n      <td>CCONJ</td>\n      <td>1646</td>\n      <td>CCONJ</td>\n      <td>316</td>\n    </tr>\n    <tr>\n      <th>11</th>\n      <td>SCONJ</td>\n      <td>1185</td>\n      <td>SCONJ</td>\n      <td>248</td>\n    </tr>\n    <tr>\n      <th>12</th>\n      <td>NUM</td>\n      <td>834</td>\n      <td>PROPN</td>\n      <td>163</td>\n    </tr>\n    <tr>\n      <th>13</th>\n      <td>SYM</td>\n      <td>502</td>\n      <td>NUM</td>\n      <td>84</td>\n    </tr>\n    <tr>\n      <th>14</th>\n      <td>_</td>\n      <td>157</td>\n      <td>INTJ</td>\n      <td>6</td>\n    </tr>\n    <tr>\n      <th>15</th>\n      <td>PART</td>\n      <td>13</td>\n      <td>SYM</td>\n      <td>5</td>\n    </tr>\n    <tr>\n      <th>16</th>\n      <td>INTJ</td>\n      <td>1</td>\n      <td>X</td>\n      <td>5</td>\n    </tr>\n  </tbody>\n</table>\n</div>"
     },
     "metadata": {},
     "execution_count": 3
    }
   ],
   "source": [
    "df\n",
    "\n",
    "#For some reason the database for Catalan is huge compared to the English one\n"
   ]
  },
  {
   "cell_type": "code",
   "execution_count": null,
   "metadata": {},
   "outputs": [],
   "source": []
  }
 ]
}